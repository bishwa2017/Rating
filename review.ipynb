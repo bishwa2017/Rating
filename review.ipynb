{
 "cells": [
  {
   "cell_type": "code",
   "execution_count": 1,
   "metadata": {},
   "outputs": [],
   "source": [
    "import csv\n",
    "from bs4 import BeautifulSoup\n",
    "from selenium import webdriver\n",
    "import pandas as pd\n",
    "import requests\n",
    "from selenium import webdriver\n",
    "from webdriver_manager.chrome import ChromeDriverManager"
   ]
  },
  {
   "cell_type": "code",
   "execution_count": 3,
   "metadata": {},
   "outputs": [
    {
     "name": "stderr",
     "output_type": "stream",
     "text": [
      "\n",
      "\n",
      "====== WebDriver manager ======\n",
      "Current google-chrome version is 96.0.4664\n",
      "Get LATEST chromedriver version for 96.0.4664 google-chrome\n",
      "Trying to download new driver from https://chromedriver.storage.googleapis.com/96.0.4664.45/chromedriver_win32.zip\n",
      "Driver has been saved in cache [C:\\Users\\bisue\\.wdm\\drivers\\chromedriver\\win32\\96.0.4664.45]\n"
     ]
    }
   ],
   "source": [
    "from selenium import webdriver\n",
    "from webdriver_manager.chrome import ChromeDriverManager\n",
    "\n",
    "driver = webdriver.Chrome(ChromeDriverManager().install())"
   ]
  },
  {
   "cell_type": "markdown",
   "metadata": {},
   "source": [
    "# Navigating 1st page"
   ]
  },
  {
   "cell_type": "code",
   "execution_count": 77,
   "metadata": {},
   "outputs": [],
   "source": [
    "url = 'https://flipkart.com'\n",
    "driver.get(url)"
   ]
  },
  {
   "cell_type": "code",
   "execution_count": 78,
   "metadata": {},
   "outputs": [],
   "source": [
    "def get_url(search_item):\n",
    "   \n",
    "    template = 'https://www.flipkart.com/search?q={}&as=on&as-show=on&otracker=AS_Query_HistoryAutoSuggest_1_4_na_na_na&otracker1=AS_Query_HistoryAutoSuggest_1_4_na_na_na&as-pos=1&as-type=HISTORY&suggestionId=mobile+phones&requestId=e625b409-ca2a-456a-b53c-0fdb7618b658&as-backfill=on'\n",
    "    # We'are replacing every space with '+' to adhere with the pattern \n",
    "    search_item = search_item.replace(\" \",\"+\")\n",
    "    return template.format(search_item)"
   ]
  },
  {
   "cell_type": "code",
   "execution_count": 79,
   "metadata": {},
   "outputs": [
    {
     "name": "stdout",
     "output_type": "stream",
     "text": [
      "https://www.flipkart.com/search?q=mobile+phones&as=on&as-show=on&otracker=AS_Query_HistoryAutoSuggest_1_4_na_na_na&otracker1=AS_Query_HistoryAutoSuggest_1_4_na_na_na&as-pos=1&as-type=HISTORY&suggestionId=mobile+phones&requestId=e625b409-ca2a-456a-b53c-0fdb7618b658&as-backfill=on\n"
     ]
    }
   ],
   "source": [
    "url = get_url('mobile phones')\n",
    "print(url)"
   ]
  },
  {
   "cell_type": "code",
   "execution_count": 80,
   "metadata": {},
   "outputs": [],
   "source": [
    "page=requests.get(url)\n",
    "soup=BeautifulSoup(page.content)"
   ]
  },
  {
   "cell_type": "code",
   "execution_count": 81,
   "metadata": {},
   "outputs": [
    {
     "data": {
      "text/plain": [
       "24"
      ]
     },
     "execution_count": 81,
     "metadata": {},
     "output_type": "execute_result"
    }
   ],
   "source": [
    "results = soup.find_all('a',{'class':\"_1fQZEK\"})\n",
    "len(results)"
   ]
  },
  {
   "cell_type": "code",
   "execution_count": 82,
   "metadata": {},
   "outputs": [],
   "source": [
    "item = results[0]"
   ]
  },
  {
   "cell_type": "code",
   "execution_count": 83,
   "metadata": {},
   "outputs": [
    {
     "data": {
      "text/plain": [
       "'realme Narzo 50A (Oxygen Blue, 64 GB)'"
      ]
     },
     "execution_count": 83,
     "metadata": {},
     "output_type": "execute_result"
    }
   ],
   "source": [
    "model = item.find('div',{'class':\"_4rR01T\"}).text\n",
    "model"
   ]
  },
  {
   "cell_type": "code",
   "execution_count": 84,
   "metadata": {},
   "outputs": [
    {
     "data": {
      "text/plain": [
       "'4.4'"
      ]
     },
     "execution_count": 84,
     "metadata": {},
     "output_type": "execute_result"
    }
   ],
   "source": [
    "star = item.find('div',{'class':\"_3LWZlK\"}).text\n",
    "star"
   ]
  },
  {
   "cell_type": "code",
   "execution_count": 85,
   "metadata": {},
   "outputs": [
    {
     "data": {
      "text/plain": [
       "'1,61,401 Ratings'"
      ]
     },
     "execution_count": 85,
     "metadata": {},
     "output_type": "execute_result"
    }
   ],
   "source": [
    "num_ratings = item.find('span',{'class':\"_2_R_DZ\"}).text.replace('\\xa0&\\xa0',\" ; \")[0:item.find('span',{'class':\"_2_R_DZ\"}).text.replace('\\xa0&\\xa0',\" ; \").find(';')].strip()\n",
    "num_ratings"
   ]
  },
  {
   "cell_type": "code",
   "execution_count": 86,
   "metadata": {},
   "outputs": [
    {
     "data": {
      "text/plain": [
       "'9,770 Reviews'"
      ]
     },
     "execution_count": 86,
     "metadata": {},
     "output_type": "execute_result"
    }
   ],
   "source": [
    "reviews = item.find('span',{'class':\"_2_R_DZ\"}).text.replace('\\xa0&\\xa0',\" ; \")[item.find('span',{'class':\"_2_R_DZ\"}).text.replace('\\xa0&\\xa0',\" ; \").find(';')+1:].strip()\n",
    "reviews"
   ]
  },
  {
   "cell_type": "code",
   "execution_count": 87,
   "metadata": {},
   "outputs": [],
   "source": [
    "def extract_phone_model_info(item):\n",
    "    model = item.find('div',{'class':\"_4rR01T\"}).text\n",
    "    star = item.find('div',{'class':\"_3LWZlK\"}).text\n",
    "    num_ratings = item.find('span',{'class':\"_2_R_DZ\"}).text.replace('\\xa0&\\xa0',\" ; \")[0:item.find('span',{'class':\"_2_R_DZ\"}).text.replace('\\xa0&\\xa0',\" ; \").find(';')].strip()\n",
    "    reviews = item.find('span',{'class':\"_2_R_DZ\"}).text.replace('\\xa0&\\xa0',\" ; \")[item.find('span',{'class':\"_2_R_DZ\"}).text.replace('\\xa0&\\xa0',\" ; \").find(';')+1:].strip()\n",
    "    result = (model,star,num_ratings,reviews)\n",
    "    return result"
   ]
  },
  {
   "cell_type": "code",
   "execution_count": 88,
   "metadata": {},
   "outputs": [],
   "source": [
    "records_list = []\n",
    "results = soup.find_all('a',{'class':\"_1fQZEK\"})\n",
    "for item in results:\n",
    "    records_list.append(extract_phone_model_info(item))"
   ]
  },
  {
   "cell_type": "code",
   "execution_count": 89,
   "metadata": {},
   "outputs": [
    {
     "data": {
      "text/html": [
       "<div>\n",
       "<style scoped>\n",
       "    .dataframe tbody tr th:only-of-type {\n",
       "        vertical-align: middle;\n",
       "    }\n",
       "\n",
       "    .dataframe tbody tr th {\n",
       "        vertical-align: top;\n",
       "    }\n",
       "\n",
       "    .dataframe thead th {\n",
       "        text-align: right;\n",
       "    }\n",
       "</style>\n",
       "<table border=\"1\" class=\"dataframe\">\n",
       "  <thead>\n",
       "    <tr style=\"text-align: right;\">\n",
       "      <th></th>\n",
       "      <th>model</th>\n",
       "      <th>star</th>\n",
       "      <th>num_ratings</th>\n",
       "      <th>reviews</th>\n",
       "    </tr>\n",
       "  </thead>\n",
       "  <tbody>\n",
       "    <tr>\n",
       "      <th>0</th>\n",
       "      <td>realme Narzo 50A (Oxygen Blue, 64 GB)</td>\n",
       "      <td>4.4</td>\n",
       "      <td>1,61,401 Ratings</td>\n",
       "      <td>9,770 Reviews</td>\n",
       "    </tr>\n",
       "    <tr>\n",
       "      <th>1</th>\n",
       "      <td>REDMI 9i Sport (Metallic Blue, 64 GB)</td>\n",
       "      <td>4.3</td>\n",
       "      <td>25,309 Ratings</td>\n",
       "      <td>1,301 Reviews</td>\n",
       "    </tr>\n",
       "    <tr>\n",
       "      <th>2</th>\n",
       "      <td>REDMI 9i (Nature Green, 64 GB)</td>\n",
       "      <td>4.3</td>\n",
       "      <td>5,28,757 Ratings</td>\n",
       "      <td>31,259 Reviews</td>\n",
       "    </tr>\n",
       "    <tr>\n",
       "      <th>3</th>\n",
       "      <td>realme Narzo 50A (Oxygen Green, 64 GB)</td>\n",
       "      <td>4.4</td>\n",
       "      <td>1,61,401 Ratings</td>\n",
       "      <td>9,770 Reviews</td>\n",
       "    </tr>\n",
       "    <tr>\n",
       "      <th>4</th>\n",
       "      <td>realme Narzo 50A (Oxygen Green, 128 GB)</td>\n",
       "      <td>4.4</td>\n",
       "      <td>1,61,401 Ratings</td>\n",
       "      <td>9,770 Reviews</td>\n",
       "    </tr>\n",
       "    <tr>\n",
       "      <th>5</th>\n",
       "      <td>realme Narzo 50A (Oxygen Blue, 128 GB)</td>\n",
       "      <td>4.4</td>\n",
       "      <td>1,61,401 Ratings</td>\n",
       "      <td>9,770 Reviews</td>\n",
       "    </tr>\n",
       "    <tr>\n",
       "      <th>6</th>\n",
       "      <td>REDMI 9i (Sea Blue, 64 GB)</td>\n",
       "      <td>4.3</td>\n",
       "      <td>5,28,757 Ratings</td>\n",
       "      <td>31,259 Reviews</td>\n",
       "    </tr>\n",
       "    <tr>\n",
       "      <th>7</th>\n",
       "      <td>REDMI 9i Sport (Coral Green, 64 GB)</td>\n",
       "      <td>4.3</td>\n",
       "      <td>25,309 Ratings</td>\n",
       "      <td>1,301 Reviews</td>\n",
       "    </tr>\n",
       "    <tr>\n",
       "      <th>8</th>\n",
       "      <td>Infinix Smart 5A (Midnight Black, 32 GB)</td>\n",
       "      <td>4.4</td>\n",
       "      <td>52,513 Ratings</td>\n",
       "      <td>3,444 Reviews</td>\n",
       "    </tr>\n",
       "    <tr>\n",
       "      <th>9</th>\n",
       "      <td>Infinix Smart 5A (Ocean Wave, 32 GB)</td>\n",
       "      <td>4.4</td>\n",
       "      <td>52,513 Ratings</td>\n",
       "      <td>3,444 Reviews</td>\n",
       "    </tr>\n",
       "    <tr>\n",
       "      <th>10</th>\n",
       "      <td>Infinix Smart 5A (Quetzal Cyan, 32 GB)</td>\n",
       "      <td>4.4</td>\n",
       "      <td>52,513 Ratings</td>\n",
       "      <td>3,444 Reviews</td>\n",
       "    </tr>\n",
       "    <tr>\n",
       "      <th>11</th>\n",
       "      <td>APPLE iPhone 12 Mini (Black, 64 GB)</td>\n",
       "      <td>4.5</td>\n",
       "      <td>75,721 Ratings</td>\n",
       "      <td>6,002 Reviews</td>\n",
       "    </tr>\n",
       "    <tr>\n",
       "      <th>12</th>\n",
       "      <td>realme Narzo 50i (Carbon Black, 32 GB)</td>\n",
       "      <td>4.5</td>\n",
       "      <td>34,108 Ratings</td>\n",
       "      <td>1,353 Reviews</td>\n",
       "    </tr>\n",
       "    <tr>\n",
       "      <th>13</th>\n",
       "      <td>realme Narzo 50i (Mint Green, 32 GB)</td>\n",
       "      <td>4.5</td>\n",
       "      <td>34,108 Ratings</td>\n",
       "      <td>1,353 Reviews</td>\n",
       "    </tr>\n",
       "    <tr>\n",
       "      <th>14</th>\n",
       "      <td>Infinix Hot 10S (Heart Of Ocean, 64 GB)</td>\n",
       "      <td>4.3</td>\n",
       "      <td>65,705 Ratings</td>\n",
       "      <td>5,663 Reviews</td>\n",
       "    </tr>\n",
       "    <tr>\n",
       "      <th>15</th>\n",
       "      <td>REDMI 9i (Midnight Black, 64 GB)</td>\n",
       "      <td>4.3</td>\n",
       "      <td>5,28,757 Ratings</td>\n",
       "      <td>31,259 Reviews</td>\n",
       "    </tr>\n",
       "    <tr>\n",
       "      <th>16</th>\n",
       "      <td>POCO C31 (Royal Blue, 64 GB)</td>\n",
       "      <td>4.3</td>\n",
       "      <td>9,175 Ratings</td>\n",
       "      <td>479 Reviews</td>\n",
       "    </tr>\n",
       "    <tr>\n",
       "      <th>17</th>\n",
       "      <td>APPLE iPhone SE (Black, 64 GB)</td>\n",
       "      <td>4.5</td>\n",
       "      <td>1,37,032 Ratings</td>\n",
       "      <td>11,060 Reviews</td>\n",
       "    </tr>\n",
       "    <tr>\n",
       "      <th>18</th>\n",
       "      <td>realme 8i (Space Black, 128 GB)</td>\n",
       "      <td>4.4</td>\n",
       "      <td>41,235 Ratings</td>\n",
       "      <td>2,863 Reviews</td>\n",
       "    </tr>\n",
       "    <tr>\n",
       "      <th>19</th>\n",
       "      <td>realme Narzo 50i (Mint Green, 64 GB)</td>\n",
       "      <td>4.3</td>\n",
       "      <td>20,372 Ratings</td>\n",
       "      <td>978 Reviews</td>\n",
       "    </tr>\n",
       "    <tr>\n",
       "      <th>20</th>\n",
       "      <td>REDMI 9i Sport (Carbon Black, 64 GB)</td>\n",
       "      <td>4.3</td>\n",
       "      <td>25,309 Ratings</td>\n",
       "      <td>1,301 Reviews</td>\n",
       "    </tr>\n",
       "    <tr>\n",
       "      <th>21</th>\n",
       "      <td>realme Narzo 50i (Carbon Black, 64 GB)</td>\n",
       "      <td>4.3</td>\n",
       "      <td>20,372 Ratings</td>\n",
       "      <td>978 Reviews</td>\n",
       "    </tr>\n",
       "    <tr>\n",
       "      <th>22</th>\n",
       "      <td>Infinix Hot 10 Play (Aegean Blue, 32 GB)</td>\n",
       "      <td>4.3</td>\n",
       "      <td>19,848 Ratings</td>\n",
       "      <td>1,453 Reviews</td>\n",
       "    </tr>\n",
       "    <tr>\n",
       "      <th>23</th>\n",
       "      <td>Infinix Hot 10 Play (Obsidian Black, 32 GB)</td>\n",
       "      <td>4.3</td>\n",
       "      <td>19,848 Ratings</td>\n",
       "      <td>1,453 Reviews</td>\n",
       "    </tr>\n",
       "  </tbody>\n",
       "</table>\n",
       "</div>"
      ],
      "text/plain": [
       "                                          model star       num_ratings  \\\n",
       "0         realme Narzo 50A (Oxygen Blue, 64 GB)  4.4  1,61,401 Ratings   \n",
       "1         REDMI 9i Sport (Metallic Blue, 64 GB)  4.3    25,309 Ratings   \n",
       "2                REDMI 9i (Nature Green, 64 GB)  4.3  5,28,757 Ratings   \n",
       "3        realme Narzo 50A (Oxygen Green, 64 GB)  4.4  1,61,401 Ratings   \n",
       "4       realme Narzo 50A (Oxygen Green, 128 GB)  4.4  1,61,401 Ratings   \n",
       "5        realme Narzo 50A (Oxygen Blue, 128 GB)  4.4  1,61,401 Ratings   \n",
       "6                    REDMI 9i (Sea Blue, 64 GB)  4.3  5,28,757 Ratings   \n",
       "7           REDMI 9i Sport (Coral Green, 64 GB)  4.3    25,309 Ratings   \n",
       "8      Infinix Smart 5A (Midnight Black, 32 GB)  4.4    52,513 Ratings   \n",
       "9          Infinix Smart 5A (Ocean Wave, 32 GB)  4.4    52,513 Ratings   \n",
       "10       Infinix Smart 5A (Quetzal Cyan, 32 GB)  4.4    52,513 Ratings   \n",
       "11          APPLE iPhone 12 Mini (Black, 64 GB)  4.5    75,721 Ratings   \n",
       "12       realme Narzo 50i (Carbon Black, 32 GB)  4.5    34,108 Ratings   \n",
       "13         realme Narzo 50i (Mint Green, 32 GB)  4.5    34,108 Ratings   \n",
       "14      Infinix Hot 10S (Heart Of Ocean, 64 GB)  4.3    65,705 Ratings   \n",
       "15             REDMI 9i (Midnight Black, 64 GB)  4.3  5,28,757 Ratings   \n",
       "16                 POCO C31 (Royal Blue, 64 GB)  4.3     9,175 Ratings   \n",
       "17               APPLE iPhone SE (Black, 64 GB)  4.5  1,37,032 Ratings   \n",
       "18              realme 8i (Space Black, 128 GB)  4.4    41,235 Ratings   \n",
       "19         realme Narzo 50i (Mint Green, 64 GB)  4.3    20,372 Ratings   \n",
       "20         REDMI 9i Sport (Carbon Black, 64 GB)  4.3    25,309 Ratings   \n",
       "21       realme Narzo 50i (Carbon Black, 64 GB)  4.3    20,372 Ratings   \n",
       "22     Infinix Hot 10 Play (Aegean Blue, 32 GB)  4.3    19,848 Ratings   \n",
       "23  Infinix Hot 10 Play (Obsidian Black, 32 GB)  4.3    19,848 Ratings   \n",
       "\n",
       "           reviews  \n",
       "0    9,770 Reviews  \n",
       "1    1,301 Reviews  \n",
       "2   31,259 Reviews  \n",
       "3    9,770 Reviews  \n",
       "4    9,770 Reviews  \n",
       "5    9,770 Reviews  \n",
       "6   31,259 Reviews  \n",
       "7    1,301 Reviews  \n",
       "8    3,444 Reviews  \n",
       "9    3,444 Reviews  \n",
       "10   3,444 Reviews  \n",
       "11   6,002 Reviews  \n",
       "12   1,353 Reviews  \n",
       "13   1,353 Reviews  \n",
       "14   5,663 Reviews  \n",
       "15  31,259 Reviews  \n",
       "16     479 Reviews  \n",
       "17  11,060 Reviews  \n",
       "18   2,863 Reviews  \n",
       "19     978 Reviews  \n",
       "20   1,301 Reviews  \n",
       "21     978 Reviews  \n",
       "22   1,453 Reviews  \n",
       "23   1,453 Reviews  "
      ]
     },
     "execution_count": 89,
     "metadata": {},
     "output_type": "execute_result"
    }
   ],
   "source": [
    "pd.DataFrame(records_list,columns=['model',\"star\",\"num_ratings\"\n",
    "   ,\"reviews\"])"
   ]
  },
  {
   "cell_type": "markdown",
   "metadata": {},
   "source": [
    "# Navigating to next page"
   ]
  },
  {
   "cell_type": "code",
   "execution_count": 90,
   "metadata": {},
   "outputs": [],
   "source": [
    "def get_url(search_item):\n",
    "    template = 'https://www.flipkart.com/search?q={}&as=on&as-show=on&otracker=AS_Query_HistoryAutoSuggest_1_4_na_na_na&otracker1=AS_Query_HistoryAutoSuggest_1_4_na_na_na&as-pos=1&as-type=HISTORY&suggestionId=mobile+phones&requestId=e625b409-ca2a-456a-b53c-0fdb7618b658&as-backfill=on'\n",
    "    search_item = search_item.replace(\" \",\"+\")\n",
    "    url = template.format(search_item)\n",
    "    url += '&page{}'\n",
    "    return url"
   ]
  },
  {
   "cell_type": "markdown",
   "metadata": {},
   "source": [
    "# All Togather"
   ]
  },
  {
   "cell_type": "code",
   "execution_count": 91,
   "metadata": {},
   "outputs": [],
   "source": [
    "import csv\n",
    "from bs4 import BeautifulSoup\n",
    "from selenium import webdriver\n",
    "import pandas as pd\n",
    "\n",
    "def get_url(search_item):\n",
    "    template = 'https://www.flipkart.com/search?q={}&as=on&as-show=on&otracker=AS_Query_HistoryAutoSuggest_1_4_na_na_na&otracker1=AS_Query_HistoryAutoSuggest_1_4_na_na_na&as-pos=1&as-type=HISTORY&suggestionId=mobile+phones&requestId=e625b409-ca2a-456a-b53c-0fdb7618b658&as-backfill=on'\n",
    "    search_item = search_item.replace(\" \",\"+\")\n",
    "    # Add term query to URL\n",
    "    url = template.format(search_item)\n",
    "    # Add term query placeholder\n",
    "    url += '&page{}'\n",
    "    return url\n",
    "def extract_phone_model_info(item):\n",
    "    model = item.find('div',{'class':\"_4rR01T\"}).text\n",
    "    star = item.find('div',{'class':\"_3LWZlK\"}).text\n",
    "    num_ratings = item.find('span',{'class':\"_2_R_DZ\"}).text.replace('\\xa0&\\xa0',\" ; \")[0:item.find('span',{'class':\"_2_R_DZ\"}).text.replace('\\xa0&\\xa0',\" ; \").find(';')].strip()\n",
    "    reviews = item.find('span',{'class':\"_2_R_DZ\"}).text.replace('\\xa0&\\xa0',\" ; \")[item.find('span',{'class':\"_2_R_DZ\"}).text.replace('\\xa0&\\xa0',\" ; \").find(';')+1:].strip()\n",
    "    result = (model,star,num_ratings,reviews)\n",
    "    return result\n",
    "def main(search_item):\n",
    "    driver = webdriver.Chrome(ChromeDriverManager().install())\n",
    "    records = []\n",
    "    url = get_url(search_item)\n",
    "    for page in range(1,464):\n",
    "        driver.get(url.format(page))\n",
    "        soup = BeautifulSoup(driver.page_source,'html.parser')\n",
    "        results = soup.find_all('a',{'class':\"_1fQZEK\"})\n",
    "        for item in results:\n",
    "            records.append(extract_phone_model_info(item))\n",
    "    driver.close()\n",
    "    with open('Flipkart_results.csv','w',newline='',encoding='utf-8') as f:\n",
    "        writer = csv.writer(f)\n",
    "        writer.writerow(['Model','Stars','Num_of_Ratings','Reviews'])\n",
    "        writer.writerows(records)"
   ]
  },
  {
   "cell_type": "code",
   "execution_count": 92,
   "metadata": {},
   "outputs": [
    {
     "name": "stderr",
     "output_type": "stream",
     "text": [
      "\n",
      "\n",
      "====== WebDriver manager ======\n",
      "Current google-chrome version is 96.0.4664\n",
      "Get LATEST chromedriver version for 96.0.4664 google-chrome\n",
      "Driver [C:\\Users\\bisue\\.wdm\\drivers\\chromedriver\\win32\\96.0.4664.45\\chromedriver.exe] found in cache\n"
     ]
    },
    {
     "name": "stdout",
     "output_type": "stream",
     "text": [
      "Wall time: 22min 1s\n"
     ]
    }
   ],
   "source": [
    "%%time\n",
    "main('mobile phones')"
   ]
  },
  {
   "cell_type": "code",
   "execution_count": 93,
   "metadata": {},
   "outputs": [
    {
     "data": {
      "text/html": [
       "<div>\n",
       "<style scoped>\n",
       "    .dataframe tbody tr th:only-of-type {\n",
       "        vertical-align: middle;\n",
       "    }\n",
       "\n",
       "    .dataframe tbody tr th {\n",
       "        vertical-align: top;\n",
       "    }\n",
       "\n",
       "    .dataframe thead th {\n",
       "        text-align: right;\n",
       "    }\n",
       "</style>\n",
       "<table border=\"1\" class=\"dataframe\">\n",
       "  <thead>\n",
       "    <tr style=\"text-align: right;\">\n",
       "      <th></th>\n",
       "      <th>Model</th>\n",
       "      <th>Stars</th>\n",
       "      <th>Num_of_Ratings</th>\n",
       "      <th>Reviews</th>\n",
       "    </tr>\n",
       "  </thead>\n",
       "  <tbody>\n",
       "    <tr>\n",
       "      <th>0</th>\n",
       "      <td>REDMI 9i Sport (Metallic Blue, 64 GB)</td>\n",
       "      <td>4.3</td>\n",
       "      <td>25,309 Ratings</td>\n",
       "      <td>1,301 Reviews</td>\n",
       "    </tr>\n",
       "    <tr>\n",
       "      <th>1</th>\n",
       "      <td>REDMI 9i (Sea Blue, 64 GB)</td>\n",
       "      <td>4.3</td>\n",
       "      <td>5,28,757 Ratings</td>\n",
       "      <td>31,259 Reviews</td>\n",
       "    </tr>\n",
       "    <tr>\n",
       "      <th>2</th>\n",
       "      <td>realme Narzo 50A (Oxygen Green, 64 GB)</td>\n",
       "      <td>4.4</td>\n",
       "      <td>1,61,401 Ratings</td>\n",
       "      <td>9,770 Reviews</td>\n",
       "    </tr>\n",
       "    <tr>\n",
       "      <th>3</th>\n",
       "      <td>realme Narzo 50A (Oxygen Blue, 128 GB)</td>\n",
       "      <td>4.4</td>\n",
       "      <td>1,61,401 Ratings</td>\n",
       "      <td>9,770 Reviews</td>\n",
       "    </tr>\n",
       "    <tr>\n",
       "      <th>4</th>\n",
       "      <td>realme Narzo 50A (Oxygen Green, 128 GB)</td>\n",
       "      <td>4.4</td>\n",
       "      <td>1,61,401 Ratings</td>\n",
       "      <td>9,770 Reviews</td>\n",
       "    </tr>\n",
       "    <tr>\n",
       "      <th>...</th>\n",
       "      <td>...</td>\n",
       "      <td>...</td>\n",
       "      <td>...</td>\n",
       "      <td>...</td>\n",
       "    </tr>\n",
       "    <tr>\n",
       "      <th>11006</th>\n",
       "      <td>realme Narzo 50i (Carbon Black, 64 GB)</td>\n",
       "      <td>4.3</td>\n",
       "      <td>20,372 Ratings</td>\n",
       "      <td>978 Reviews</td>\n",
       "    </tr>\n",
       "    <tr>\n",
       "      <th>11007</th>\n",
       "      <td>POCO C31 (Royal Blue, 32 GB)</td>\n",
       "      <td>4.3</td>\n",
       "      <td>9,486 Ratings</td>\n",
       "      <td>524 Reviews</td>\n",
       "    </tr>\n",
       "    <tr>\n",
       "      <th>11008</th>\n",
       "      <td>realme 8i (Space Black, 64 GB)</td>\n",
       "      <td>4.5</td>\n",
       "      <td>1,04,704 Ratings</td>\n",
       "      <td>6,288 Reviews</td>\n",
       "    </tr>\n",
       "    <tr>\n",
       "      <th>11009</th>\n",
       "      <td>Infinix Hot 10 Play (Morandi Green, 32 GB)</td>\n",
       "      <td>4.3</td>\n",
       "      <td>19,848 Ratings</td>\n",
       "      <td>1,453 Reviews</td>\n",
       "    </tr>\n",
       "    <tr>\n",
       "      <th>11010</th>\n",
       "      <td>Infinix Hot 10 Play (7° Purple, 32 GB)</td>\n",
       "      <td>4.3</td>\n",
       "      <td>19,848 Ratings</td>\n",
       "      <td>1,453 Reviews</td>\n",
       "    </tr>\n",
       "  </tbody>\n",
       "</table>\n",
       "<p>11011 rows × 4 columns</p>\n",
       "</div>"
      ],
      "text/plain": [
       "                                            Model  Stars    Num_of_Ratings  \\\n",
       "0           REDMI 9i Sport (Metallic Blue, 64 GB)    4.3    25,309 Ratings   \n",
       "1                      REDMI 9i (Sea Blue, 64 GB)    4.3  5,28,757 Ratings   \n",
       "2          realme Narzo 50A (Oxygen Green, 64 GB)    4.4  1,61,401 Ratings   \n",
       "3          realme Narzo 50A (Oxygen Blue, 128 GB)    4.4  1,61,401 Ratings   \n",
       "4         realme Narzo 50A (Oxygen Green, 128 GB)    4.4  1,61,401 Ratings   \n",
       "...                                           ...    ...               ...   \n",
       "11006      realme Narzo 50i (Carbon Black, 64 GB)    4.3    20,372 Ratings   \n",
       "11007                POCO C31 (Royal Blue, 32 GB)    4.3     9,486 Ratings   \n",
       "11008              realme 8i (Space Black, 64 GB)    4.5  1,04,704 Ratings   \n",
       "11009  Infinix Hot 10 Play (Morandi Green, 32 GB)    4.3    19,848 Ratings   \n",
       "11010      Infinix Hot 10 Play (7° Purple, 32 GB)    4.3    19,848 Ratings   \n",
       "\n",
       "              Reviews  \n",
       "0       1,301 Reviews  \n",
       "1      31,259 Reviews  \n",
       "2       9,770 Reviews  \n",
       "3       9,770 Reviews  \n",
       "4       9,770 Reviews  \n",
       "...               ...  \n",
       "11006     978 Reviews  \n",
       "11007     524 Reviews  \n",
       "11008   6,288 Reviews  \n",
       "11009   1,453 Reviews  \n",
       "11010   1,453 Reviews  \n",
       "\n",
       "[11011 rows x 4 columns]"
      ]
     },
     "execution_count": 93,
     "metadata": {},
     "output_type": "execute_result"
    }
   ],
   "source": [
    "scraped_df = pd.read_csv('Flipkart_results.csv')\n",
    "scraped_df"
   ]
  },
  {
   "cell_type": "code",
   "execution_count": 54,
   "metadata": {},
   "outputs": [],
   "source": [
    "import csv\n",
    "from bs4 import BeautifulSoup\n",
    "from selenium import webdriver\n",
    "import pandas as pd\n",
    "\n",
    "def get_url(search_item):\n",
    "    template = 'https://www.flipkart.com/search?q=laptop&sid=6bo%2Cb5g&as=on&as-show=on&otracker=AS_QueryStore_HistoryAutoSuggest_1_3_na_na_na&otracker1=AS_QueryStore_HistoryAutoSuggest_1_3_na_na_na&as-pos=1&as-type=HISTORY&suggestionId=laptop%7CLaptops&requestId=14892c99-c443-4e9b-89cc-7a8288d8f07a&as-searchtext=lap'\n",
    "    # Add term query to URL\n",
    "    search_item = search_item.replace(\" \",\"+\")\n",
    "    url = template.format(search_item)\n",
    "    # Add term query placeholder\n",
    "    url += '&page{}'\n",
    "    return url\n",
    "def extract_laptop_model_info(item):\n",
    "    model = item.find('div',{'class':\"_4rR01T\"}).text\n",
    "    star = item.find('div',{'class':\"_3LWZlK\"}).text\n",
    "    num_ratings = item.find('span',{'class':\"_2_R_DZ\"}).text.replace('\\xa0&\\xa0',\" ; \")[0:item.find('span',{'class':\"_2_R_DZ\"}).text.replace('\\xa0&\\xa0',\" ; \").find(';')].strip()\n",
    "    reviews = item.find('span',{'class':\"_2_R_DZ\"}).text.replace('\\xa0&\\xa0',\" ; \")[item.find('span',{'class':\"_2_R_DZ\"}).text.replace('\\xa0&\\xa0',\" ; \").find(';')+1:].strip()\n",
    "    result = (model,star,num_ratings,reviews)\n",
    "    return result\n",
    "def main(search_item):\n",
    "    driver = webdriver.Chrome(ChromeDriverManager().install())\n",
    "    records = []\n",
    "    url = get_url(search_item)\n",
    "    for page in range(1,464):\n",
    "        driver.get(url.format(page))\n",
    "        soup = BeautifulSoup(driver.page_source,'html.parser')\n",
    "        results = soup.find_all('a',{'class':\"_1fQZEK\"})\n",
    "        for item in results:\n",
    "            records.append(extract_laptop_model_info(item))\n",
    "    driver.close()\n",
    "    with open('Laptop_results.csv','w',newline='',encoding='utf-8') as f:\n",
    "        writer = csv.writer(f)\n",
    "        writer.writerow(['Model','Stars','Num_of_Ratings','Reviews'])\n",
    "        writer.writerows(records)"
   ]
  },
  {
   "cell_type": "code",
   "execution_count": null,
   "metadata": {},
   "outputs": [
    {
     "name": "stderr",
     "output_type": "stream",
     "text": [
      "\n",
      "\n",
      "====== WebDriver manager ======\n",
      "Current google-chrome version is 96.0.4664\n",
      "Get LATEST chromedriver version for 96.0.4664 google-chrome\n",
      "Driver [C:\\Users\\bisue\\.wdm\\drivers\\chromedriver\\win32\\96.0.4664.45\\chromedriver.exe] found in cache\n"
     ]
    }
   ],
   "source": [
    "%%time\n",
    "main('laptop')"
   ]
  },
  {
   "cell_type": "code",
   "execution_count": 54,
   "metadata": {},
   "outputs": [
    {
     "data": {
      "text/html": [
       "<div>\n",
       "<style scoped>\n",
       "    .dataframe tbody tr th:only-of-type {\n",
       "        vertical-align: middle;\n",
       "    }\n",
       "\n",
       "    .dataframe tbody tr th {\n",
       "        vertical-align: top;\n",
       "    }\n",
       "\n",
       "    .dataframe thead th {\n",
       "        text-align: right;\n",
       "    }\n",
       "</style>\n",
       "<table border=\"1\" class=\"dataframe\">\n",
       "  <thead>\n",
       "    <tr style=\"text-align: right;\">\n",
       "      <th></th>\n",
       "      <th>Model</th>\n",
       "      <th>Stars</th>\n",
       "      <th>Num_of_Ratings</th>\n",
       "      <th>Reviews</th>\n",
       "    </tr>\n",
       "  </thead>\n",
       "  <tbody>\n",
       "    <tr>\n",
       "      <th>0</th>\n",
       "      <td>acer Aspire 7 Core i5 10th Gen - (8 GB/512 GB ...</td>\n",
       "      <td>4.4</td>\n",
       "      <td>7,973 Ratings</td>\n",
       "      <td>860 Reviews</td>\n",
       "    </tr>\n",
       "    <tr>\n",
       "      <th>1</th>\n",
       "      <td>HP Ryzen 3 Dual Core 3250U - (8 GB/256 GB SSD/...</td>\n",
       "      <td>4.3</td>\n",
       "      <td>1,226 Ratings</td>\n",
       "      <td>141 Reviews</td>\n",
       "    </tr>\n",
       "    <tr>\n",
       "      <th>2</th>\n",
       "      <td>HP Core i3 11th Gen - (8 GB/512 GB SSD/Windows...</td>\n",
       "      <td>4.1</td>\n",
       "      <td>91 Ratings</td>\n",
       "      <td>6 Reviews</td>\n",
       "    </tr>\n",
       "    <tr>\n",
       "      <th>3</th>\n",
       "      <td>DELL Vostro Core i3 10th Gen - (8 GB/256 GB SS...</td>\n",
       "      <td>4.3</td>\n",
       "      <td>1,128 Ratings</td>\n",
       "      <td>157 Reviews</td>\n",
       "    </tr>\n",
       "    <tr>\n",
       "      <th>4</th>\n",
       "      <td>ASUS VivoBook 15 (2021) Core i3 10th Gen - (8 ...</td>\n",
       "      <td>4.5</td>\n",
       "      <td>52 Ratings</td>\n",
       "      <td>7 Reviews</td>\n",
       "    </tr>\n",
       "    <tr>\n",
       "      <th>...</th>\n",
       "      <td>...</td>\n",
       "      <td>...</td>\n",
       "      <td>...</td>\n",
       "      <td>...</td>\n",
       "    </tr>\n",
       "    <tr>\n",
       "      <th>15763</th>\n",
       "      <td>MSI Modern 14 Ryzen 5 Hexa Core 4500U - (8 GB/...</td>\n",
       "      <td>4.6</td>\n",
       "      <td>421 Ratings</td>\n",
       "      <td>64 Reviews</td>\n",
       "    </tr>\n",
       "    <tr>\n",
       "      <th>15764</th>\n",
       "      <td>Lenovo Ideapad Slim 3i (2021) Core i5 11th Gen...</td>\n",
       "      <td>4.2</td>\n",
       "      <td>279 Ratings</td>\n",
       "      <td>29 Reviews</td>\n",
       "    </tr>\n",
       "    <tr>\n",
       "      <th>15765</th>\n",
       "      <td>Lenovo IdeaPad Core i5 11th Gen - (8 GB/512 GB...</td>\n",
       "      <td>4.2</td>\n",
       "      <td>13 Ratings</td>\n",
       "      <td>1 Reviews</td>\n",
       "    </tr>\n",
       "    <tr>\n",
       "      <th>15766</th>\n",
       "      <td>HP Pavilion Ryzen 5 Hexa Core 5600H - (8 GB/51...</td>\n",
       "      <td>4.5</td>\n",
       "      <td>3,025 Ratings</td>\n",
       "      <td>353 Reviews</td>\n",
       "    </tr>\n",
       "    <tr>\n",
       "      <th>15767</th>\n",
       "      <td>RedmiBook 15 e-Learning Edition Core i3 11th G...</td>\n",
       "      <td>4.3</td>\n",
       "      <td>561 Ratings</td>\n",
       "      <td>90 Reviews</td>\n",
       "    </tr>\n",
       "  </tbody>\n",
       "</table>\n",
       "<p>15768 rows × 4 columns</p>\n",
       "</div>"
      ],
      "text/plain": [
       "                                                   Model  Stars  \\\n",
       "0      acer Aspire 7 Core i5 10th Gen - (8 GB/512 GB ...    4.4   \n",
       "1      HP Ryzen 3 Dual Core 3250U - (8 GB/256 GB SSD/...    4.3   \n",
       "2      HP Core i3 11th Gen - (8 GB/512 GB SSD/Windows...    4.1   \n",
       "3      DELL Vostro Core i3 10th Gen - (8 GB/256 GB SS...    4.3   \n",
       "4      ASUS VivoBook 15 (2021) Core i3 10th Gen - (8 ...    4.5   \n",
       "...                                                  ...    ...   \n",
       "15763  MSI Modern 14 Ryzen 5 Hexa Core 4500U - (8 GB/...    4.6   \n",
       "15764  Lenovo Ideapad Slim 3i (2021) Core i5 11th Gen...    4.2   \n",
       "15765  Lenovo IdeaPad Core i5 11th Gen - (8 GB/512 GB...    4.2   \n",
       "15766  HP Pavilion Ryzen 5 Hexa Core 5600H - (8 GB/51...    4.5   \n",
       "15767  RedmiBook 15 e-Learning Edition Core i3 11th G...    4.3   \n",
       "\n",
       "      Num_of_Ratings      Reviews  \n",
       "0      7,973 Ratings  860 Reviews  \n",
       "1      1,226 Ratings  141 Reviews  \n",
       "2         91 Ratings    6 Reviews  \n",
       "3      1,128 Ratings  157 Reviews  \n",
       "4         52 Ratings    7 Reviews  \n",
       "...              ...          ...  \n",
       "15763    421 Ratings   64 Reviews  \n",
       "15764    279 Ratings   29 Reviews  \n",
       "15765     13 Ratings    1 Reviews  \n",
       "15766  3,025 Ratings  353 Reviews  \n",
       "15767    561 Ratings   90 Reviews  \n",
       "\n",
       "[15768 rows x 4 columns]"
      ]
     },
     "execution_count": 54,
     "metadata": {},
     "output_type": "execute_result"
    }
   ],
   "source": [
    "scraped_df1=pd.read_csv('Laptop_results.csv')\n",
    "scraped_df1"
   ]
  },
  {
   "cell_type": "markdown",
   "metadata": {},
   "source": [
    "# All togather collected on Rating.xlsx"
   ]
  },
  {
   "cell_type": "code",
   "execution_count": null,
   "metadata": {},
   "outputs": [],
   "source": []
  }
 ],
 "metadata": {
  "kernelspec": {
   "display_name": "Python 3",
   "language": "python",
   "name": "python3"
  },
  "language_info": {
   "codemirror_mode": {
    "name": "ipython",
    "version": 3
   },
   "file_extension": ".py",
   "mimetype": "text/x-python",
   "name": "python",
   "nbconvert_exporter": "python",
   "pygments_lexer": "ipython3",
   "version": "3.8.5"
  }
 },
 "nbformat": 4,
 "nbformat_minor": 4
}
